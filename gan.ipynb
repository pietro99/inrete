{
 "cells": [
  {
   "cell_type": "code",
   "execution_count": null,
   "metadata": {},
   "outputs": [],
   "source": [
    "from gan import GAN\n",
    "import torch\n",
    "from torch import nn"
   ]
  },
  {
   "cell_type": "code",
   "execution_count": null,
   "metadata": {},
   "outputs": [],
   "source": [
    "noise_dim = 100  # Dimensionality of the noise vector\n",
    "data_dim = 784  # Output/input dimensionality (e.g., 28x28 image flattened)\n",
    "hidden_dim = 128\n",
    "\n",
    "# Create GAN instance\n",
    "gan = GAN(noise_dim, data_dim, hidden_dim)\n",
    "\n",
    "# Generate a batch of noise vectors\n",
    "batch_size = 16\n",
    "noise = torch.randn(batch_size, noise_dim)\n",
    "\n",
    "# Forward pass through the GAN\n",
    "classification = gan(noise)\n",
    "print(classification)"
   ]
  },
  {
   "cell_type": "code",
   "execution_count": null,
   "metadata": {},
   "outputs": [],
   "source": [
    "# Training loop\n",
    "num_epochs = 1000\n",
    "lr = 0.0002\n",
    "\n",
    "# Optimizers\n",
    "optimizer_g = torch.optim.Adam(gan.generator.parameters(), lr=lr, betas=(0.5, 0.999))\n",
    "optimizer_d = torch.optim.Adam(gan.discriminator.parameters(), lr=lr, betas=(0.5, 0.999))\n",
    "\n",
    "# Loss function\n",
    "criterion = nn.BCELoss()\n",
    "\n",
    "for epoch in range(num_epochs):\n",
    "    for _ in range(5):  # Train discriminator more frequently\n",
    "        # Train discriminator on real data\n",
    "        real_data = torch.randn(batch_size, data_dim)  # Replace with actual dataset\n",
    "        real_labels = torch.ones(batch_size, 1)\n",
    "\n",
    "        optimizer_d.zero_grad()\n",
    "\n",
    "        output_real = gan.discriminator(real_data)\n",
    "        loss_real = criterion(output_real, real_labels)\n",
    "\n",
    "        # Train discriminator on fake data\n",
    "        noise = torch.randn(batch_size, noise_dim)\n",
    "        fake_data = gan.generator(noise).detach()\n",
    "        fake_labels = torch.zeros(batch_size, 1)\n",
    "\n",
    "        output_fake = gan.discriminator(fake_data)\n",
    "        loss_fake = criterion(output_fake, fake_labels)\n",
    "\n",
    "        loss_d = loss_real + loss_fake\n",
    "        loss_d.backward()\n",
    "        optimizer_d.step()\n",
    "\n",
    "    # Train generator\n",
    "    noise = torch.randn(batch_size, noise_dim)\n",
    "    fake_labels = torch.ones(batch_size, 1)  # Generator tries to fool discriminator\n",
    "\n",
    "    optimizer_g.zero_grad()\n",
    "\n",
    "    fake_data = gan.generator(noise)\n",
    "    output_fake = gan.discriminator(fake_data)\n",
    "    loss_g = criterion(output_fake, fake_labels)\n",
    "\n",
    "    loss_g.backward()\n",
    "    optimizer_g.step()\n",
    "\n",
    "    # Print progress\n",
    "    print(f\"Epoch [{epoch + 1}/{num_epochs}], Loss D: {loss_d.item():.4f}, Loss G: {loss_g.item():.4f}\")\n"
   ]
  },
  {
   "cell_type": "code",
   "execution_count": null,
   "metadata": {},
   "outputs": [],
   "source": []
  }
 ],
 "metadata": {
  "kernelspec": {
   "display_name": "inrete",
   "language": "python",
   "name": "python3"
  },
  "language_info": {
   "codemirror_mode": {
    "name": "ipython",
    "version": 3
   },
   "file_extension": ".py",
   "mimetype": "text/x-python",
   "name": "python",
   "nbconvert_exporter": "python",
   "pygments_lexer": "ipython3",
   "version": "3.11.10"
  }
 },
 "nbformat": 4,
 "nbformat_minor": 2
}
