{
 "cells": [
  {
   "cell_type": "code",
   "execution_count": 2,
   "metadata": {},
   "outputs": [],
   "source": [
    "import pandas as pd\n"
   ]
  },
  {
   "cell_type": "code",
   "execution_count": null,
   "metadata": {},
   "outputs": [],
   "source": [
    "df_2019 = pd.read_parquet(\"dati/2019/tratte_disp_2019.parquet\")\n",
    "df_2020 = pd.read_parquet(\"dati/2020/tratte_disp_2020.parquet\")\n",
    "df_2021 = pd.read_parquet(\"dati/2021/tratte_disp_2021.parquet\")\n",
    "df_2022 = pd.read_parquet(\"dati/2022/tratte_disp_2022.parquet\")"
   ]
  },
  {
   "cell_type": "code",
   "execution_count": null,
   "metadata": {},
   "outputs": [],
   "source": [
    "def flatten_coords(coords):\n",
    "    flattened = []\n",
    "    for coord in coords:\n",
    "        flattened.extend(coord)  # Flatten each tuple (x, y, z)\n",
    "    return flattened\n",
    "def geometry_to_columns(geometry):\n",
    "    lines = [list(line.coords) for line in wkb.loads(geometry).geoms]  # Extract coordinates\n",
    "    flattened = [coord for line in lines for coord in line]           # Flatten to single list\n",
    "    return flattened\n",
    "import geopandas as gpd\n",
    "from shapely import wkb\n",
    "df2_2019 = pd.read_parquet(\"dati/2022/tratte_gas_2022.parquet\")\n",
    "df2_expended = df2_2019['geometry'].apply(geometry_to_columns).apply(flatten_coords).apply(pd.Series)\n",
    "#gdf_2019 = gpd.GeoDataFrame(df2_2019, geometry='geometry')"
   ]
  },
  {
   "cell_type": "code",
   "execution_count": null,
   "metadata": {},
   "outputs": [],
   "source": [
    "df2_expended\n",
    "lenght = gdf_2019.iloc[1]['geometry'].length\n",
    "gdf_2019.iloc[6]['geometry'].geoms[0]"
   ]
  },
  {
   "cell_type": "code",
   "execution_count": null,
   "metadata": {},
   "outputs": [],
   "source": [
    "coordinates = [list(line.coords) for line in gdf_2019['geometry'][0].geoms]"
   ]
  },
  {
   "cell_type": "code",
   "execution_count": null,
   "metadata": {},
   "outputs": [],
   "source": [
    "type(df2_2019['geometry'])"
   ]
  },
  {
   "cell_type": "code",
   "execution_count": null,
   "metadata": {},
   "outputs": [],
   "source": [
    "df2_2019 = pd.read_parquet(\"dati/2022/tratte_gas_2022.parquet\")\n",
    "from shapely.geometry.linestring import LineString\n",
    "for i in df2_2019['geometry'].values:\n",
    "    line:LineString = wkb.loads(i).geoms[0]\n",
    "    #print(f\"area: {line.area}\")                #NOT USEFULL\n",
    "    #print(line.length)                         #USEFULL\n",
    "    #print(line.is_closed)                      #USEFULL\n",
    "    #print(line.is_simple)                      #USEFULL\n",
    "    #print(line.is_ring)                        #USEFULL\n",
    "    #print(line.minimum_clearance)              #USEFULL\n",
    "    #print(line.has_z)                          #NOT USEFULL\n",
    "    #print(line.is_valid)                       #NOT USEFULL\n",
    "    #print(line.centroid.x)                       #MAYBE USEFULL\n",
    "    #for b in line.boundary\n",
    "    #print(line.boundary)                       #MAYBE USEFULL\n",
    "    #print(line.bounds[3])                         #MAYBE USEFULL\n",
    "    #print(len(line.coords.xy))\n",
    "    #print(line.convex_hull)\n",
    "    #print(line.envelope)\n",
    "    #print(line.oriented_envelope)\n",
    "    #print(line.minimum_rotated_rectangle)\n",
    "    print(line.xy[0][1])\n",
    "    # \n"
   ]
  },
  {
   "cell_type": "code",
   "execution_count": 258,
   "metadata": {},
   "outputs": [
    {
     "name": "stdout",
     "output_type": "stream",
     "text": [
      "columns 2019 ['data', 'idsap', 'risk_level']\n"
     ]
    }
   ],
   "source": [
    "print(f\"columns 2019 {list(pd.read_parquet('dati/2019/idsap_rischio_2019/part-00000-tid-1172828717447291518-526b776f-6349-4a73-9ac0-7e49355b8703-63-1-c000.snappy.parquet').columns)}\")\n",
    "# print(f\"columns 2020 {list(pd.read_parquet('dati/2020/tratte_disp_2020.parquet').columns)}\")\n",
    "# print(f\"columns 2021 {list(pd.read_parquet('dati/2021/tratte_disp_2021.parquet').columns)}\")\n",
    "# print(f\"columns 2022 {list(pd.read_parquet('dati/2022/tratte_disp_2022.parquet').columns)}\")"
   ]
  },
  {
   "cell_type": "code",
   "execution_count": 257,
   "metadata": {},
   "outputs": [
    {
     "name": "stdout",
     "output_type": "stream",
     "text": [
      "columns 2019 ['ODL', 'DATA', 'IDSAP']\n",
      "columns 2020 ['ODL', 'DATA', 'IDSAP']\n",
      "columns 2021 ['ODL', 'DATA', 'IDSAP']\n",
      "columns 2022 ['ODL', 'DATA', 'IDSAP']\n"
     ]
    }
   ],
   "source": [
    "print(f\"columns 2019 {list(pd.read_parquet('dati/2019/tratte_disp_2019.parquet').columns)}\")\n",
    "print(f\"columns 2020 {list(pd.read_parquet('dati/2020/tratte_disp_2020.parquet').columns)}\")\n",
    "print(f\"columns 2021 {list(pd.read_parquet('dati/2021/tratte_disp_2021.parquet').columns)}\")\n",
    "print(f\"columns 2022 {list(pd.read_parquet('dati/2022/tratte_disp_2022.parquet').columns)}\")"
   ]
  },
  {
   "cell_type": "code",
   "execution_count": 249,
   "metadata": {},
   "outputs": [
    {
     "name": "stdout",
     "output_type": "stream",
     "text": [
      "columns 2019 ['IDSAP', 'TIPORETE', 'MATERIALE', 'DIAMETRO', 'ANNOPOSA', 'CODSISTEMA', 'geometry']\n",
      "columns 2020 ['OBJECTID', 'TIPO', 'IDSAP', 'MATERIALE', 'DIAMETRO', 'ANNO_POSA', 'CODSISTEMA', 'geometry']\n",
      "columns 2021 ['TIPO', 'IDSAP', 'MATERIALE', 'DIAMETRO', 'ANNO_POSA', 'CODSISTEMA', 'geometry']\n",
      "columns 2022 ['TIPO', 'IDSAP', 'MATERIALE', 'DIAMETRO', 'ANNO_POSA', 'CODSISTEMA', 'geometry']\n"
     ]
    }
   ],
   "source": [
    "print(f\"columns 2019 {list(pd.read_parquet('dati/2019/tratte_gas_2019.parquet').columns)}\")\n",
    "print(f\"columns 2020 {list(pd.read_parquet('dati/2020/tratte_gas_2020.parquet').columns)}\")\n",
    "print(f\"columns 2021 {list(pd.read_parquet('dati/2021/tratte_gas_2021.parquet').columns)}\")\n",
    "print(f\"columns 2022 {list(pd.read_parquet('dati/2022/tratte_gas_2022.parquet').columns)}\")\n"
   ]
  },
  {
   "cell_type": "code",
   "execution_count": 253,
   "metadata": {},
   "outputs": [],
   "source": [
    "from collections import defaultdict\n",
    "df2_2019 = pd.read_parquet(\"dati/2019/tratte_gas_2019.parquet\")\n",
    "\n",
    "# Create a defaultdict with list as default factory\n",
    "def expand_geometry(dataframe:pd.DataFrame, geometry_column='geometry') -> pd.DataFrame:\n",
    "    data = defaultdict(list)\n",
    "    for geometry_bytes in dataframe[geometry_column].values:\n",
    "        linestring:LineString = wkb.loads(geometry_bytes).geoms[0]\n",
    "        data[\"lenght\"].append(linestring.length)\n",
    "        data[\"is_closed\"].append(linestring.is_closed)\n",
    "        data[\"is_simple\"].append(linestring.is_simple)\n",
    "        data[\"is_ring\"].append(linestring.is_ring)\n",
    "        data[\"minimum_clearance\"].append(linestring.minimum_clearance)\n",
    "        data[\"centroid_x\"].append(linestring.centroid.x)\n",
    "        data[\"centroid_y\"].append(linestring.centroid.y)\n",
    "        data['bound_0'].append(linestring.bounds[0])\n",
    "        data['bound_1'].append(linestring.bounds[1])\n",
    "        data['bound_2'].append(linestring.bounds[2])\n",
    "        data['bound_3'].append(linestring.bounds[3])\n",
    "        data['x_coordinates'].append(list(linestring.xy[0]))\n",
    "        data['y_coordinates'].append(list(linestring.xy[1]))\n",
    "    new_dataframe = dataframe.copy()\n",
    "    new_dataframe = new_dataframe.drop(columns=[geometry_column], inplace=False)\n",
    "\n",
    "    #mantain consistency\n",
    "    if \"OBJECTID\" in new_dataframe.columns:\n",
    "        new_dataframe = new_dataframe.drop(columns=[\"OBJECTID\"], inplace=False)\n",
    "\n",
    "    if \"TIPORETE\" in new_dataframe.columns:\n",
    "        new_dataframe = new_dataframe.rename(columns={'TIPORETE': 'TIPO'})\n",
    "\n",
    "    if 'ANNOPOSA' in new_dataframe.columns:\n",
    "        new_dataframe = new_dataframe.rename(columns={'ANNOPOSA': 'ANNO_POSA'})\n",
    "    \n",
    "    for col, values in dict(data).items():\n",
    "        new_dataframe[col] = values\n",
    "    return new_dataframe"
   ]
  },
  {
   "cell_type": "code",
   "execution_count": 254,
   "metadata": {},
   "outputs": [],
   "source": [
    "d = expand_geometry(df2_2019)"
   ]
  },
  {
   "cell_type": "code",
   "execution_count": 255,
   "metadata": {},
   "outputs": [],
   "source": [
    "d.to_parquet('here.parquet')"
   ]
  },
  {
   "cell_type": "code",
   "execution_count": 9,
   "metadata": {},
   "outputs": [],
   "source": [
    "df = pd.read_parquet(\"./dati/2019/tratte_gas_2019_processed.parquet\")"
   ]
  },
  {
   "cell_type": "code",
   "execution_count": 10,
   "metadata": {},
   "outputs": [
    {
     "data": {
      "text/plain": [
       "<Axes: >"
      ]
     },
     "execution_count": 10,
     "metadata": {},
     "output_type": "execute_result"
    },
    {
     "data": {
      "image/png": "[encoded data removed]",
      "text/plain": [
       "<Figure size 640x480 with 1 Axes>"
      ]
     },
     "metadata": {},
     "output_type": "display_data"
    }
   ],
   "source": [
    "df['MATERIALE'].hist()"
   ]
  },
  {
   "cell_type": "code",
   "execution_count": 12,
   "metadata": {},
   "outputs": [
    {
     "data": {
      "text/plain": [
       "<Axes: >"
      ]
     },
     "execution_count": 12,
     "metadata": {},
     "output_type": "execute_result"
    },
    {
     "data": {
      "image/png": "[encoded data removed]",
      "text/plain": [
       "<Figure size 640x480 with 1 Axes>"
      ]
     },
     "metadata": {},
     "output_type": "display_data"
    }
   ],
   "source": [
    "df['TIPO'].hist()"
   ]
  },
  {
   "cell_type": "code",
   "execution_count": null,
   "metadata": {},
   "outputs": [],
   "source": []
  }
 ],
 "metadata": {
  "kernelspec": {
   "display_name": "inrete",
   "language": "python",
   "name": "python3"
  },
  "language_info": {
   "codemirror_mode": {
    "name": "ipython",
    "version": 3
   },
   "file_extension": ".py",
   "mimetype": "text/x-python",
   "name": "python",
   "nbconvert_exporter": "python",
   "pygments_lexer": "ipython3",
   "version": "3.11.10"
  }
 },
 "nbformat": 4,
 "nbformat_minor": 2
}
